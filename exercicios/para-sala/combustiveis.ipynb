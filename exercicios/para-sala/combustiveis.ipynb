{
  "nbformat": 4,
  "nbformat_minor": 0,
  "metadata": {
    "colab": {
      "provenance": []
    },
    "kernelspec": {
      "name": "python3",
      "display_name": "Python 3"
    },
    "language_info": {
      "name": "python"
    }
  },
  "cells": [
    {
      "cell_type": "code",
      "execution_count": 2,
      "metadata": {
        "id": "xqqOo15Rqt2X"
      },
      "outputs": [],
      "source": [
        "import pandas as pd\n",
        "import matplotlib.pyplot as plt"
      ]
    },
    {
      "cell_type": "code",
      "source": [
        "df = pd.read_csv(\"/content/drive/MyDrive/Semana13 Python/combustiveis-brasil.csv\", sep=\",\" , encoding= 'UTF-8')"
      ],
      "metadata": {
        "id": "xnQuP9ubq3Tv"
      },
      "execution_count": 3,
      "outputs": []
    },
    {
      "cell_type": "code",
      "source": [
        "print(type(df))"
      ],
      "metadata": {
        "id": "p5A7pooLq3dS"
      },
      "execution_count": null,
      "outputs": []
    },
    {
      "cell_type": "code",
      "source": [
        "df.dtypes"
      ],
      "metadata": {
        "id": "UFGDtGqQq3gC"
      },
      "execution_count": null,
      "outputs": []
    },
    {
      "cell_type": "code",
      "source": [
        "df.info()"
      ],
      "metadata": {
        "id": "f_nyYGv8q3jG"
      },
      "execution_count": null,
      "outputs": []
    },
    {
      "cell_type": "code",
      "source": [
        "df.head(10)"
      ],
      "metadata": {
        "id": "0DwlSObYq3l0"
      },
      "execution_count": null,
      "outputs": []
    },
    {
      "cell_type": "code",
      "source": [
        "df.shape"
      ],
      "metadata": {
        "id": "WFowxdmjq3oW"
      },
      "execution_count": null,
      "outputs": []
    },
    {
      "cell_type": "code",
      "source": [
        "#contar nulos\n",
        "contagem_nulos = df['gasolina_aditivada_preco_revenda_avg'].isnull().sum()\n",
        "print(contagem_nulos)"
      ],
      "metadata": {
        "id": "EhteNqiftc0l"
      },
      "execution_count": null,
      "outputs": []
    },
    {
      "cell_type": "code",
      "source": [
        "pd.set_option('display.max_colwidth', None)  # Isso remove o limite de truncamento\n",
        "print(df['gasolina_aditivada_preco_revenda_avg'])"
      ],
      "metadata": {
        "id": "hOnx6up_tc8A"
      },
      "execution_count": null,
      "outputs": []
    },
    {
      "cell_type": "code",
      "source": [
        "# remover as letras da coluna\n",
        "df['gasolina_aditivada_preco_revenda_avg'] = df['gasolina_aditivada_preco_revenda_avg'].str.replace('[a-zA-Z]', '', regex=True)"
      ],
      "metadata": {
        "id": "Anbnmd7gtc-5"
      },
      "execution_count": null,
      "outputs": []
    },
    {
      "cell_type": "code",
      "source": [
        "pd.set_option('display.max_colwidth', None)\n",
        "print(df['gasolina_aditivada_preco_revenda_avg'])"
      ],
      "metadata": {
        "id": "v4tBcM_Buk76"
      },
      "execution_count": null,
      "outputs": []
    },
    {
      "cell_type": "code",
      "source": [
        "# remover os tracinhos da coluna\n",
        "df['gasolina_aditivada_preco_revenda_avg'] = df['gasolina_aditivada_preco_revenda_avg'].str.replace('-', '', regex=False)\n"
      ],
      "metadata": {
        "id": "rQ27G55Nuk-d"
      },
      "execution_count": null,
      "outputs": []
    },
    {
      "cell_type": "code",
      "source": [
        "pd.set_option('display.max_colwidth', None)\n",
        "print(df['gasolina_aditivada_preco_revenda_avg'])"
      ],
      "metadata": {
        "id": "GadtAcygu94k"
      },
      "execution_count": null,
      "outputs": []
    },
    {
      "cell_type": "code",
      "source": [
        "coluna_info = df['gasolina_aditivada_preco_revenda_avg'].describe()\n",
        "print(coluna_info)"
      ],
      "metadata": {
        "id": "CMHPpVyYvp_i"
      },
      "execution_count": null,
      "outputs": []
    },
    {
      "cell_type": "code",
      "source": [
        "# e deseja converter a coluna 'coluna_object' em tipo float\n",
        "df['gasolina_aditivada_preco_revenda_avg'] = pd.to_numeric(df['gasolina_aditivada_preco_revenda_avg'], errors='coerce')"
      ],
      "metadata": {
        "id": "yRb88JVEv9ff"
      },
      "execution_count": null,
      "outputs": []
    },
    {
      "cell_type": "code",
      "source": [
        "pd.set_option('display.max_colwidth', None)\n",
        "print(df['gasolina_aditivada_preco_revenda_avg'])"
      ],
      "metadata": {
        "id": "jccPMxpDwZXf"
      },
      "execution_count": null,
      "outputs": []
    },
    {
      "cell_type": "code",
      "source": [
        "# Calcula a média da coluna\n",
        "media_coluna = df['gasolina_aditivada_preco_revenda_avg'].mean()"
      ],
      "metadata": {
        "id": "_2h8YnFbu-AJ"
      },
      "execution_count": null,
      "outputs": []
    },
    {
      "cell_type": "code",
      "source": [
        "print(media_coluna)"
      ],
      "metadata": {
        "id": "tpqtOQz6vc7U"
      },
      "execution_count": null,
      "outputs": []
    },
    {
      "cell_type": "code",
      "source": [
        "# Substitui os NaNs pela média\n",
        "df['gasolina_aditivada_preco_revenda_avg'].fillna(media_coluna, inplace=True)"
      ],
      "metadata": {
        "id": "3zlLdisTu-Dv"
      },
      "execution_count": null,
      "outputs": []
    },
    {
      "cell_type": "code",
      "source": [
        "pd.set_option('display.max_colwidth', None)\n",
        "print(df['gasolina_aditivada_preco_revenda_avg'])"
      ],
      "metadata": {
        "id": "kYzOVbdtwnph"
      },
      "execution_count": null,
      "outputs": []
    },
    {
      "cell_type": "code",
      "source": [
        "#contar nulos\n",
        "contagem_nulos = df['etanol_hidratado_preco_revenda_min'].isnull().sum()\n",
        "print(contagem_nulos)"
      ],
      "metadata": {
        "id": "NzagqH85wnxl"
      },
      "execution_count": null,
      "outputs": []
    },
    {
      "cell_type": "code",
      "source": [
        "coluna_info = df['etanol_hidratado_preco_revenda_min'].describe()\n",
        "print(coluna_info)"
      ],
      "metadata": {
        "id": "TWf408cgwn0i"
      },
      "execution_count": null,
      "outputs": []
    },
    {
      "cell_type": "code",
      "source": [
        "# transformar em float\n",
        "df['etanol_hidratado_preco_revenda_min'] = pd.to_numeric(df['etanol_hidratado_preco_revenda_min'], errors='coerce')"
      ],
      "metadata": {
        "id": "Fun4HAt6wn3Z"
      },
      "execution_count": 6,
      "outputs": []
    },
    {
      "cell_type": "code",
      "source": [
        "coluna_info = df['etanol_hidratado_preco_revenda_min'].describe()\n",
        "print(coluna_info)"
      ],
      "metadata": {
        "id": "6Luzy9kpfjoO"
      },
      "execution_count": null,
      "outputs": []
    },
    {
      "cell_type": "code",
      "source": [],
      "metadata": {
        "id": "1QPk4Nntfjw-"
      },
      "execution_count": null,
      "outputs": []
    },
    {
      "cell_type": "code",
      "source": [],
      "metadata": {
        "id": "nfOlLtX4fj2l"
      },
      "execution_count": null,
      "outputs": []
    }
  ]
}